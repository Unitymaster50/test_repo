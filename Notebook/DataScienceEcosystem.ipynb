{
  "metadata": {
    "kernelspec": {
      "name": "python",
      "display_name": "Python (Pyodide)",
      "language": "python"
    },
    "language_info": {
      "codemirror_mode": {
        "name": "python",
        "version": 3
      },
      "file_extension": ".py",
      "mimetype": "text/x-python",
      "name": "python",
      "nbconvert_exporter": "python",
      "pygments_lexer": "ipython3",
      "version": "3.8"
    }
  },
  "nbformat_minor": 5,
  "nbformat": 4,
  "cells": [
    {
      "id": "e11eca6a-9942-4ee7-841a-89b56d180534",
      "cell_type": "markdown",
      "source": "## Data Science Tools and Ecosystem",
      "metadata": {}
    },
    {
      "id": "85a68905-36f0-4755-871b-cd08e894657a",
      "cell_type": "markdown",
      "source": "#### In this notebook, Data Science Tools and Ecosystem are summarized",
      "metadata": {}
    },
    {
      "id": "5ecc9d32-9dc3-42a5-846b-880e823f19e7",
      "cell_type": "markdown",
      "source": "##### Some of the popular languages that data scientists use are:\n##### 1: Python\n##### 2: R\n##### 3: SQL",
      "metadata": {}
    },
    {
      "id": "fe32420c-dc41-42e1-b57c-3de264ddd437",
      "cell_type": "markdown",
      "source": "##### Some of the commonly used libraries used by Data Scientists include:\n##### 1: NumPy\n##### 2: Matplotlib\n##### 3: Pandas",
      "metadata": {}
    },
    {
      "id": "3efc5ca8-02d8-4cb1-87d8-c7f186324dd2",
      "cell_type": "markdown",
      "source": "| Data Science Tools |\n| -------- |\n|GitHub|\n|IBM Cloud|\n|Apache Spark|",
      "metadata": {}
    },
    {
      "id": "264e4647-f355-43d6-8307-553e62ab17e9",
      "cell_type": "markdown",
      "source": "##### Below are a few examples of evaluating arithmetic expressions in Python:",
      "metadata": {}
    },
    {
      "id": "496c8e19-5e4d-4706-a28c-5b689d15492d",
      "cell_type": "code",
      "source": "##This a simple arithmetic expression to mutiply then add integers\n(3*4)+5",
      "metadata": {
        "trusted": true
      },
      "outputs": [
        {
          "execution_count": 3,
          "output_type": "execute_result",
          "data": {
            "text/plain": "17"
          },
          "metadata": {}
        }
      ],
      "execution_count": 3
    },
    {
      "id": "33cfd0c9-04b0-441a-a52e-f09f346aef88",
      "cell_type": "code",
      "source": "##This will convert 200 minutes to hours by diving by 60\n200/60",
      "metadata": {
        "trusted": true
      },
      "outputs": [
        {
          "execution_count": 4,
          "output_type": "execute_result",
          "data": {
            "text/plain": "3.3333333333333335"
          },
          "metadata": {}
        }
      ],
      "execution_count": 4
    },
    {
      "id": "d687637c-0fb9-4fde-a7a4-36c8fed7db6e",
      "cell_type": "markdown",
      "source": "#### Objectives:",
      "metadata": {}
    },
    {
      "id": "5a2c77a5-7e4d-445c-8156-4b8386b9f211",
      "cell_type": "markdown",
      "source": "##### List popular languages for Data Science\n##### List popular libraries for Data Science\n##### List popular tools for Data Science\n##### Perform basic math",
      "metadata": {}
    },
    {
      "id": "a1141f3d-5285-4434-9e29-11123f0e6a3f",
      "cell_type": "markdown",
      "source": "#### Author:\n##### Samuel Hegeman",
      "metadata": {}
    },
    {
      "id": "05322305-0677-4743-9639-d414867d67ad",
      "cell_type": "code",
      "source": "",
      "metadata": {
        "trusted": true
      },
      "outputs": [],
      "execution_count": null
    }
  ]
}